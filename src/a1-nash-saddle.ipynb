{
 "cells": [
  {
   "cell_type": "markdown",
   "metadata": {},
   "source": [
    "# Rose / Colin Game\n"
   ]
  },
  {
   "cell_type": "code",
   "execution_count": 1,
   "metadata": {},
   "outputs": [
    {
     "name": "stderr",
     "output_type": "stream",
     "text": [
      "d:\\Projects\\GameTheoryNit\\src\\twoplayer_game_matrix.py:27: VisibleDeprecationWarning: Creating an ndarray from ragged nested sequences (which is a list-or-tuple of lists-or-tuples-or ndarrays with different lengths or shapes) is deprecated. If you meant to do this, you must specify 'dtype=object' when creating the ndarray.\n",
      "  self.data = np.array(matrix)\n"
     ]
    }
   ],
   "source": [
    "from twoplayer_game_matrix import TwoPlayer_GameMatrix\n",
    "\n",
    "matrix = [\n",
    "  [('Rose', 'Colin'), 'A', 'B', 'C', 'D', 'E'],\n",
    "  ['A', 1, -2, 3, -4, 5],\n",
    "  ['B', -5, 4, -3, 2, -1],\n",
    "  ['C', 0, 1, 0, 3, 0],\n",
    "  ['D', 2, 0, 4, 0, 6],\n",
    "  ['E', -1, -1, 0, 2, 0],\n",
    "]\n",
    "\n",
    "game = TwoPlayer_GameMatrix(matrix)"
   ]
  },
  {
   "cell_type": "markdown",
   "metadata": {},
   "source": [
    "Apply simplification (row can column reduction):"
   ]
  },
  {
   "cell_type": "code",
   "execution_count": 2,
   "metadata": {},
   "outputs": [],
   "source": [
    "simp = game.simplifyBeatenRowsAndColumns()"
   ]
  },
  {
   "cell_type": "markdown",
   "metadata": {},
   "source": [
    "Simplified Game:"
   ]
  },
  {
   "cell_type": "code",
   "execution_count": 3,
   "metadata": {},
   "outputs": [
    {
     "name": "stdout",
     "output_type": "stream",
     "text": [
      "\tB\tD\tE\t\n",
      "B\t4\t2\t-1\t\n",
      "C\t1\t3\t0\t\n",
      "D\t0\t0\t6\t\n"
     ]
    }
   ],
   "source": [
    "rslt = simp.data.tolist().copy()\n",
    "rslt[0][0] = ''\n",
    "\n",
    "def showMatrix(mat):\n",
    "  for i in range(len(mat)):\n",
    "    for j in range(len(mat[0])):\n",
    "      if i == j == 0: print(end='\\t')\n",
    "      else: print(mat[i][j], end='\\t')\n",
    "    print()\n",
    "\n",
    "showMatrix(rslt)"
   ]
  },
  {
   "cell_type": "markdown",
   "metadata": {},
   "source": [
    "Saddle Info:"
   ]
  },
  {
   "cell_type": "code",
   "execution_count": 4,
   "metadata": {},
   "outputs": [
    {
     "name": "stdout",
     "output_type": "stream",
     "text": [
      "[2, 3]\n",
      "[2]\n",
      "{'saddle_rows': [2, 3], 'saddle_cols': [2]}\n",
      "[3, 0]\n"
     ]
    }
   ],
   "source": [
    "sp, info = simp.saddlePoint()\n",
    "print(info)\n",
    "print('saddle points:', sp)"
   ]
  },
  {
   "cell_type": "code",
   "execution_count": 5,
   "metadata": {},
   "outputs": [
    {
     "data": {
      "text/plain": [
       "array([1, 3, 0], dtype=object)"
      ]
     },
     "execution_count": 5,
     "metadata": {},
     "output_type": "execute_result"
    }
   ],
   "source": [
    "simp.data[2, 1:]\n"
   ]
  }
 ],
 "metadata": {
  "interpreter": {
   "hash": "08c9f38708c3e46713b0199162672997e1ae7ee94c3431b5c7af2e22935e3906"
  },
  "kernelspec": {
   "display_name": "Python 3.8.0 ('venv': venv)",
   "language": "python",
   "name": "python3"
  },
  "language_info": {
   "codemirror_mode": {
    "name": "ipython",
    "version": 3
   },
   "file_extension": ".py",
   "mimetype": "text/x-python",
   "name": "python",
   "nbconvert_exporter": "python",
   "pygments_lexer": "ipython3",
   "version": "3.8.0"
  },
  "orig_nbformat": 4
 },
 "nbformat": 4,
 "nbformat_minor": 2
}
